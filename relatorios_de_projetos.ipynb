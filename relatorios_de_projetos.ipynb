{
  "cells": [
    {
      "cell_type": "markdown",
      "metadata": {
        "colab_type": "text",
        "id": "view-in-github"
      },
      "source": [
        "<a href=\"https://colab.research.google.com/github/luhonunes/Relatorios-de-Progresso/blob/main/relatorios_de_projetos.ipynb\" target=\"_parent\"><img src=\"https://colab.research.google.com/assets/colab-badge.svg\" alt=\"Open In Colab\"/></a>"
      ]
    },
    {
      "cell_type": "markdown",
      "metadata": {
        "id": "ZzhbeE-kTH23"
      },
      "source": [
        "# <center> <font color = lightblue> **Relatórios de Progresso - Projeto de Desenvolvimento de Software**\n",
        "\n"
      ]
    },
    {
      "cell_type": "markdown",
      "metadata": {
        "id": "5FXeKbL6TUhw"
      },
      "source": [
        "## <center> <font color = violet> Introdução </font>\n",
        "\n",
        "Uma empresa de desenvolvimento de softwares possui uma tabela com os seguintes dados:"
      ]
    },
    {
      "cell_type": "code",
      "execution_count": null,
      "metadata": {
        "cellView": "form",
        "colab": {
          "base_uri": "https://localhost:8080/",
          "height": 206
        },
        "id": "GCJNAW-SpkP6",
        "outputId": "6bbf1446-64f5-4348-cdc4-8bfbfe0ce6e5"
      },
      "outputs": [
        {
          "data": {
            "text/html": [
              "\n",
              "\n",
              "  <div id=\"df-45f2f159-31f3-45e1-a427-928bde2cf389\">\n",
              "    <div class=\"colab-df-container\">\n",
              "      <div>\n",
              "<style scoped>\n",
              "    .dataframe tbody tr th:only-of-type {\n",
              "        vertical-align: middle;\n",
              "    }\n",
              "\n",
              "    .dataframe tbody tr th {\n",
              "        vertical-align: top;\n",
              "    }\n",
              "\n",
              "    .dataframe thead th {\n",
              "        text-align: right;\n",
              "    }\n",
              "</style>\n",
              "<table border=\"1\" class=\"dataframe\">\n",
              "  <thead>\n",
              "    <tr style=\"text-align: right;\">\n",
              "      <th></th>\n",
              "      <th>Data</th>\n",
              "      <th>Horas_Trabalhadas</th>\n",
              "      <th>Bugs_Corrigidos</th>\n",
              "      <th>Tarefas_Concluídas</th>\n",
              "      <th>Dia_Semana</th>\n",
              "    </tr>\n",
              "  </thead>\n",
              "  <tbody>\n",
              "    <tr>\n",
              "      <th>0</th>\n",
              "      <td>2023-07-12</td>\n",
              "      <td>8</td>\n",
              "      <td>3</td>\n",
              "      <td>5</td>\n",
              "      <td>Quarta-feira</td>\n",
              "    </tr>\n",
              "    <tr>\n",
              "      <th>1</th>\n",
              "      <td>2023-07-13</td>\n",
              "      <td>7</td>\n",
              "      <td>2</td>\n",
              "      <td>6</td>\n",
              "      <td>Quinta-feira</td>\n",
              "    </tr>\n",
              "    <tr>\n",
              "      <th>2</th>\n",
              "      <td>2023-07-14</td>\n",
              "      <td>9</td>\n",
              "      <td>4</td>\n",
              "      <td>4</td>\n",
              "      <td>Sexta-feira</td>\n",
              "    </tr>\n",
              "    <tr>\n",
              "      <th>3</th>\n",
              "      <td>2023-07-15</td>\n",
              "      <td>8</td>\n",
              "      <td>1</td>\n",
              "      <td>7</td>\n",
              "      <td>Sábado</td>\n",
              "    </tr>\n",
              "    <tr>\n",
              "      <th>4</th>\n",
              "      <td>2023-07-16</td>\n",
              "      <td>6</td>\n",
              "      <td>0</td>\n",
              "      <td>3</td>\n",
              "      <td>Domingo</td>\n",
              "    </tr>\n",
              "  </tbody>\n",
              "</table>\n",
              "</div>\n",
              "      <button class=\"colab-df-convert\" onclick=\"convertToInteractive('df-45f2f159-31f3-45e1-a427-928bde2cf389')\"\n",
              "              title=\"Convert this dataframe to an interactive table.\"\n",
              "              style=\"display:none;\">\n",
              "\n",
              "  <svg xmlns=\"http://www.w3.org/2000/svg\" height=\"24px\"viewBox=\"0 0 24 24\"\n",
              "       width=\"24px\">\n",
              "    <path d=\"M0 0h24v24H0V0z\" fill=\"none\"/>\n",
              "    <path d=\"M18.56 5.44l.94 2.06.94-2.06 2.06-.94-2.06-.94-.94-2.06-.94 2.06-2.06.94zm-11 1L8.5 8.5l.94-2.06 2.06-.94-2.06-.94L8.5 2.5l-.94 2.06-2.06.94zm10 10l.94 2.06.94-2.06 2.06-.94-2.06-.94-.94-2.06-.94 2.06-2.06.94z\"/><path d=\"M17.41 7.96l-1.37-1.37c-.4-.4-.92-.59-1.43-.59-.52 0-1.04.2-1.43.59L10.3 9.45l-7.72 7.72c-.78.78-.78 2.05 0 2.83L4 21.41c.39.39.9.59 1.41.59.51 0 1.02-.2 1.41-.59l7.78-7.78 2.81-2.81c.8-.78.8-2.07 0-2.86zM5.41 20L4 18.59l7.72-7.72 1.47 1.35L5.41 20z\"/>\n",
              "  </svg>\n",
              "      </button>\n",
              "\n",
              "\n",
              "\n",
              "    <div id=\"df-765eb458-652d-483b-94e3-fa3622e6f2fe\">\n",
              "      <button class=\"colab-df-quickchart\" onclick=\"quickchart('df-765eb458-652d-483b-94e3-fa3622e6f2fe')\"\n",
              "              title=\"Suggest charts.\"\n",
              "              style=\"display:none;\">\n",
              "\n",
              "<svg xmlns=\"http://www.w3.org/2000/svg\" height=\"24px\"viewBox=\"0 0 24 24\"\n",
              "     width=\"24px\">\n",
              "    <g>\n",
              "        <path d=\"M19 3H5c-1.1 0-2 .9-2 2v14c0 1.1.9 2 2 2h14c1.1 0 2-.9 2-2V5c0-1.1-.9-2-2-2zM9 17H7v-7h2v7zm4 0h-2V7h2v10zm4 0h-2v-4h2v4z\"/>\n",
              "    </g>\n",
              "</svg>\n",
              "      </button>\n",
              "    </div>\n",
              "\n",
              "<style>\n",
              "  .colab-df-quickchart {\n",
              "    background-color: #E8F0FE;\n",
              "    border: none;\n",
              "    border-radius: 50%;\n",
              "    cursor: pointer;\n",
              "    display: none;\n",
              "    fill: #1967D2;\n",
              "    height: 32px;\n",
              "    padding: 0 0 0 0;\n",
              "    width: 32px;\n",
              "  }\n",
              "\n",
              "  .colab-df-quickchart:hover {\n",
              "    background-color: #E2EBFA;\n",
              "    box-shadow: 0px 1px 2px rgba(60, 64, 67, 0.3), 0px 1px 3px 1px rgba(60, 64, 67, 0.15);\n",
              "    fill: #174EA6;\n",
              "  }\n",
              "\n",
              "  [theme=dark] .colab-df-quickchart {\n",
              "    background-color: #3B4455;\n",
              "    fill: #D2E3FC;\n",
              "  }\n",
              "\n",
              "  [theme=dark] .colab-df-quickchart:hover {\n",
              "    background-color: #434B5C;\n",
              "    box-shadow: 0px 1px 3px 1px rgba(0, 0, 0, 0.15);\n",
              "    filter: drop-shadow(0px 1px 2px rgba(0, 0, 0, 0.3));\n",
              "    fill: #FFFFFF;\n",
              "  }\n",
              "</style>\n",
              "\n",
              "    <script>\n",
              "      async function quickchart(key) {\n",
              "        const containerElement = document.querySelector('#' + key);\n",
              "        const charts = await google.colab.kernel.invokeFunction(\n",
              "            'suggestCharts', [key], {});\n",
              "      }\n",
              "    </script>\n",
              "\n",
              "      <script>\n",
              "\n",
              "function displayQuickchartButton(domScope) {\n",
              "  let quickchartButtonEl =\n",
              "    domScope.querySelector('#df-765eb458-652d-483b-94e3-fa3622e6f2fe button.colab-df-quickchart');\n",
              "  quickchartButtonEl.style.display =\n",
              "    google.colab.kernel.accessAllowed ? 'block' : 'none';\n",
              "}\n",
              "\n",
              "        displayQuickchartButton(document);\n",
              "      </script>\n",
              "      <style>\n",
              "    .colab-df-container {\n",
              "      display:flex;\n",
              "      flex-wrap:wrap;\n",
              "      gap: 12px;\n",
              "    }\n",
              "\n",
              "    .colab-df-convert {\n",
              "      background-color: #E8F0FE;\n",
              "      border: none;\n",
              "      border-radius: 50%;\n",
              "      cursor: pointer;\n",
              "      display: none;\n",
              "      fill: #1967D2;\n",
              "      height: 32px;\n",
              "      padding: 0 0 0 0;\n",
              "      width: 32px;\n",
              "    }\n",
              "\n",
              "    .colab-df-convert:hover {\n",
              "      background-color: #E2EBFA;\n",
              "      box-shadow: 0px 1px 2px rgba(60, 64, 67, 0.3), 0px 1px 3px 1px rgba(60, 64, 67, 0.15);\n",
              "      fill: #174EA6;\n",
              "    }\n",
              "\n",
              "    [theme=dark] .colab-df-convert {\n",
              "      background-color: #3B4455;\n",
              "      fill: #D2E3FC;\n",
              "    }\n",
              "\n",
              "    [theme=dark] .colab-df-convert:hover {\n",
              "      background-color: #434B5C;\n",
              "      box-shadow: 0px 1px 3px 1px rgba(0, 0, 0, 0.15);\n",
              "      filter: drop-shadow(0px 1px 2px rgba(0, 0, 0, 0.3));\n",
              "      fill: #FFFFFF;\n",
              "    }\n",
              "  </style>\n",
              "\n",
              "      <script>\n",
              "        const buttonEl =\n",
              "          document.querySelector('#df-45f2f159-31f3-45e1-a427-928bde2cf389 button.colab-df-convert');\n",
              "        buttonEl.style.display =\n",
              "          google.colab.kernel.accessAllowed ? 'block' : 'none';\n",
              "\n",
              "        async function convertToInteractive(key) {\n",
              "          const element = document.querySelector('#df-45f2f159-31f3-45e1-a427-928bde2cf389');\n",
              "          const dataTable =\n",
              "            await google.colab.kernel.invokeFunction('convertToInteractive',\n",
              "                                                     [key], {});\n",
              "          if (!dataTable) return;\n",
              "\n",
              "          const docLinkHtml = 'Like what you see? Visit the ' +\n",
              "            '<a target=\"_blank\" href=https://colab.research.google.com/notebooks/data_table.ipynb>data table notebook</a>'\n",
              "            + ' to learn more about interactive tables.';\n",
              "          element.innerHTML = '';\n",
              "          dataTable['output_type'] = 'display_data';\n",
              "          await google.colab.output.renderOutput(dataTable, element);\n",
              "          const docLink = document.createElement('div');\n",
              "          docLink.innerHTML = docLinkHtml;\n",
              "          element.appendChild(docLink);\n",
              "        }\n",
              "      </script>\n",
              "    </div>\n",
              "  </div>\n"
            ],
            "text/plain": [
              "        Data  Horas_Trabalhadas  Bugs_Corrigidos  Tarefas_Concluídas  \\\n",
              "0 2023-07-12                  8                3                   5   \n",
              "1 2023-07-13                  7                2                   6   \n",
              "2 2023-07-14                  9                4                   4   \n",
              "3 2023-07-15                  8                1                   7   \n",
              "4 2023-07-16                  6                0                   3   \n",
              "\n",
              "     Dia_Semana  \n",
              "0  Quarta-feira  \n",
              "1  Quinta-feira  \n",
              "2   Sexta-feira  \n",
              "3        Sábado  \n",
              "4       Domingo  "
            ]
          },
          "execution_count": 12,
          "metadata": {},
          "output_type": "execute_result"
        }
      ],
      "source": [
        "#@title\n",
        "import pandas as pd\n",
        "import matplotlib.pyplot as plt\n",
        "from datetime import datetime\n",
        "\n",
        "# Dados fornecidos\n",
        "dados = {\n",
        "    'Data': ['2023-07-12', '2023-07-13', '2023-07-14', '2023-07-15', '2023-07-16'],\n",
        "    'Horas_Trabalhadas': [8, 7, 9, 8, 6],\n",
        "    'Bugs_Corrigidos': [3, 2, 4, 1, 0],\n",
        "    'Tarefas_Concluídas': [5, 6, 4, 7, 3]\n",
        "}\n",
        "\n",
        "df = pd.DataFrame(dados)\n",
        "\n",
        "# Converter a coluna \"Data\" para o tipo datetime\n",
        "df['Data'] = pd.to_datetime(df['Data'])\n",
        "\n",
        "# Criar um dicionário com os nomes dos dias da semana em português\n",
        "dias_semana_portugues = {\n",
        "    0: 'Segunda-feira',\n",
        "    1: 'Terça-feira',\n",
        "    2: 'Quarta-feira',\n",
        "    3: 'Quinta-feira',\n",
        "    4: 'Sexta-feira',\n",
        "    5: 'Sábado',\n",
        "    6: 'Domingo'\n",
        "}\n",
        "\n",
        "# Adicionar uma nova coluna com o dia da semana em português\n",
        "df['Dia_Semana'] = df['Data'].dt.dayofweek.map(dias_semana_portugues)\n",
        "\n",
        "# Exibir o DataFrame atualizado\n",
        "df.head()"
      ]
    },
    {
      "cell_type": "markdown",
      "metadata": {
        "id": "1iqT96fOTy8C"
      },
      "source": [
        "Neste relatório, apresentaremos a análise dos dados de um projeto de desenvolvimento de software realizado pela empresa XYZ ao longo de uma semana. Nosso objetivo é fornecer insights sobre o progresso do projeto, identificar áreas de melhoria e tomar decisões informadas para garantir o sucesso do projeto."
      ]
    },
    {
      "cell_type": "code",
      "execution_count": 13,
      "metadata": {
        "cellView": "form",
        "id": "ylRx6nXfXGxL"
      },
      "outputs": [],
      "source": [
        "#@title\n",
        "# Calcular métricas\n",
        "total_horas_trabalhadas = df['Horas_Trabalhadas'].sum()\n",
        "media_horas_trabalhadas = df['Horas_Trabalhadas'].mean()\n",
        "total_bugs_corrigidos = df['Bugs_Corrigidos'].sum()\n",
        "media_bugs_corrigidos = df['Bugs_Corrigidos'].mean()\n",
        "total_tarefas_concluidas = df['Tarefas_Concluídas'].sum()\n",
        "media_tarefas_concluidas = df['Tarefas_Concluídas'].mean()\n",
        "produtividade_diaria = total_tarefas_concluidas / total_horas_trabalhadas"
      ]
    },
    {
      "cell_type": "markdown",
      "metadata": {
        "id": "7_IEatpK4ktr"
      },
      "source": [
        "***"
      ]
    },
    {
      "cell_type": "markdown",
      "metadata": {
        "id": "4CdoECpxWx3L"
      },
      "source": [
        "## <center> <font color = violet> Desenvolvimento </font>\n",
        "\n",
        "+ ### <font color = lightgreen> Seção 1: Horas Trabalhadas </font>\n",
        "\n",
        "Durante a semana do projeto, foram registradas as horas trabalhadas pelos membros da equipe de desenvolvimento. Acompanhar o tempo dedicado ao projeto é fundamental para garantir a eficiência e a produtividade da equipe. Ao analisar os dados, observamos que o total de horas trabalhadas foi de **38 horas**. Notamos uma variação ao longo da semana, com um pico de 9 horas em um dia e uma média diária de 7,6 horas trabalhadas."
      ]
    },
    {
      "cell_type": "code",
      "execution_count": 14,
      "metadata": {
        "cellView": "form",
        "colab": {
          "base_uri": "https://localhost:8080/",
          "height": 254
        },
        "id": "nmbHEXLNXpkO",
        "outputId": "4768bd40-b947-405e-efe5-e2d3a9b947ba"
      },
      "outputs": [
        {
          "data": {
            "text/plain": [
              "Text(0.5, 1.0, 'Horas Trabalhadas')"
            ]
          },
          "execution_count": 14,
          "metadata": {},
          "output_type": "execute_result"
        },
        {
          "data": {
            "image/png": "[encoded data removed]",
            "text/plain": [
              "<Figure size 600x200 with 1 Axes>"
            ]
          },
          "metadata": {},
          "output_type": "display_data"
        }
      ],
      "source": [
        "#@title\n",
        "# Criar visualizações gráficas\n",
        "plt.figure(figsize=(6,2))\n",
        "\n",
        "plt.subplot(1,1,1)\n",
        "plt.bar(df['Dia_Semana'], df['Horas_Trabalhadas'],color=['blue', 'green', 'red', 'orange', 'purple'])\n",
        "\n",
        "# Obter a figura atual\n",
        "fig = plt.gcf()\n",
        "\n",
        "# Definir a cor de fundo da figura\n",
        "fig.set_facecolor('lightgray')\n",
        "\n",
        "# Exibir gráfico\n",
        "plt.title('Horas Trabalhadas')"
      ]
    },
    {
      "cell_type": "markdown",
      "metadata": {
        "id": "zaorIFki5juf"
      },
      "source": [
        "***"
      ]
    },
    {
      "cell_type": "markdown",
      "metadata": {
        "id": "haZxdvxNYMtc"
      },
      "source": [
        "+ ### <font color = lightgreen> Seção 2: Bugs Corrigidos </font>\n",
        "\n",
        "Outro aspecto crucial é a identificação e correção de bugs para garantir a qualidade do software desenvolvido. Durante a semana, foram registrados os bugs corrigidos pela equipe. Ao analisar os dados, notamos que um total de **10 bugs** foram corrigidos. Essa métrica é fundamental para garantir a estabilidade do sistema e a satisfação dos usuários. Observamos uma tendência decrescente na correção de bugs, o que indica um bom progresso na depuração do software."
      ]
    },
    {
      "cell_type": "code",
      "execution_count": 15,
      "metadata": {
        "cellView": "form",
        "colab": {
          "base_uri": "https://localhost:8080/",
          "height": 254
        },
        "id": "RPnhQ77WYONL",
        "outputId": "795ebb66-a46b-47b9-a5ac-a6c0dcb96441"
      },
      "outputs": [
        {
          "data": {
            "text/plain": [
              "Text(0.5, 1.0, 'Bugs Corrigidos')"
            ]
          },
          "execution_count": 15,
          "metadata": {},
          "output_type": "execute_result"
        },
        {
          "data": {
            "image/png": "[encoded data removed]",
            "text/plain": [
              "<Figure size 600x200 with 1 Axes>"
            ]
          },
          "metadata": {},
          "output_type": "display_data"
        }
      ],
      "source": [
        "#@title\n",
        "# Criar visualizações gráficas\n",
        "plt.figure(figsize=(6,2))\n",
        "\n",
        "plt.subplot(1, 1, 1)\n",
        "plt.bar(df['Dia_Semana'], df['Bugs_Corrigidos'],color=['blue', 'green', 'red', 'orange', 'purple'])\n",
        "\n",
        "# Obter a figura atual\n",
        "fig = plt.gcf()\n",
        "\n",
        "# Definir a cor de fundo da figura\n",
        "fig.set_facecolor('lightgray')\n",
        "\n",
        "# Exibir gráfico\n",
        "plt.title('Bugs Corrigidos')"
      ]
    },
    {
      "cell_type": "markdown",
      "metadata": {
        "id": "kVasHh595oAR"
      },
      "source": [
        "***"
      ]
    },
    {
      "cell_type": "markdown",
      "metadata": {
        "id": "hvOeSfuhYRn_"
      },
      "source": [
        "+ ### <font color = lightgreen> Seção 3: Tarefas Concluídas </font>\n",
        "\n",
        "Acompanhar o progresso das tarefas é essencial para garantir a entrega dentro do prazo. Durante a semana do projeto, foi feito o registro das tarefas concluídas pela equipe. Ao analisar os dados, notamos que um total de **25 tarefas** foram concluídas. Observamos um progresso constante ao longo dos dias, com um aumento gradual no número de tarefas concluídas. No entanto, identificamos um desafio no último dia, que resultou em um número menor de tarefas concluídas."
      ]
    },
    {
      "cell_type": "code",
      "execution_count": 16,
      "metadata": {
        "cellView": "form",
        "colab": {
          "base_uri": "https://localhost:8080/",
          "height": 254
        },
        "id": "FfSXbZVTYWyW",
        "outputId": "f33bb7b3-5177-42fa-8082-77644a384a3a"
      },
      "outputs": [
        {
          "data": {
            "text/plain": [
              "Text(0.5, 1.0, 'Tarefas Concluídas')"
            ]
          },
          "execution_count": 16,
          "metadata": {},
          "output_type": "execute_result"
        },
        {
          "data": {
            "image/png": "[encoded data removed]",
            "text/plain": [
              "<Figure size 600x200 with 1 Axes>"
            ]
          },
          "metadata": {},
          "output_type": "display_data"
        }
      ],
      "source": [
        "#@title  { run: \"auto\" }\n",
        "\n",
        "# Criar visualizações gráficas\n",
        "plt.figure(figsize=(6,2))\n",
        "\n",
        "plt.subplot(1, 1, 1)\n",
        "plt.bar(df['Dia_Semana'], df['Tarefas_Concluídas'],color=['blue', 'green', 'red', 'orange', 'purple'])\n",
        "\n",
        "# Obter a figura atual\n",
        "fig = plt.gcf()\n",
        "\n",
        "# Definir a cor de fundo da figura\n",
        "fig.set_facecolor('lightgray')\n",
        "\n",
        "# Exibir gráfico\n",
        "plt.title('Tarefas Concluídas')"
      ]
    },
    {
      "cell_type": "markdown",
      "metadata": {
        "id": "rGgRsCNj5ss8"
      },
      "source": [
        "***"
      ]
    },
    {
      "cell_type": "markdown",
      "metadata": {
        "id": "j__MeFXzYZuD"
      },
      "source": [
        "+ ### <font color = lightgreen> Seção 4: Produtividade Diária </font>\n",
        "\n",
        "Uma métrica importante é a produtividade diária, que mede a relação entre as tarefas concluídas e as horas trabalhadas. Ao calcular essa métrica, observamos que a produtividade média diária foi de **0,66 tarefas concluídas por hora**. Essa métrica nos permite avaliar a eficiência da equipe ao realizar as tarefas do projeto. Durante a semana, identificamos períodos de maior eficiência, nos quais a produtividade aumentou, e períodos em que foram necessários ajustes para otimizar o desempenho."
      ]
    },
    {
      "cell_type": "code",
      "execution_count": 17,
      "metadata": {
        "cellView": "form",
        "colab": {
          "base_uri": "https://localhost:8080/",
          "height": 407
        },
        "id": "mIJaomSFYbHH",
        "outputId": "b44dff1f-d804-4010-87b4-6ce69ceced85"
      },
      "outputs": [
        {
          "data": {
            "image/png": "[encoded data removed]",
            "text/plain": [
              "<Figure size 600x400 with 1 Axes>"
            ]
          },
          "metadata": {},
          "output_type": "display_data"
        }
      ],
      "source": [
        "#@title\n",
        "# Criar visualizações gráficas\n",
        "plt.figure(figsize=(6,4))\n",
        "\n",
        "plt.subplot(1, 1, 1)\n",
        "plt.plot(df['Dia_Semana'], df['Horas_Trabalhadas'], label='Horas Trabalhadas')\n",
        "plt.plot(df['Dia_Semana'], df['Bugs_Corrigidos'], label='Bugs Corrigidos')\n",
        "plt.plot(df['Dia_Semana'], df['Tarefas_Concluídas'], label='Tarefas Concluídas')\n",
        "plt.legend()\n",
        "plt.title('Progresso Diário')\n",
        "# Obter a figura atual\n",
        "fig = plt.gcf()\n",
        "\n",
        "# Definir a cor de fundo da figura\n",
        "fig.set_facecolor('lightgray')\n",
        "\n",
        "# Exibir gráfico\n",
        "plt.tight_layout()\n",
        "plt.show()"
      ]
    },
    {
      "cell_type": "markdown",
      "metadata": {
        "id": "d2aGuR4E51KZ"
      },
      "source": [
        "***"
      ]
    },
    {
      "cell_type": "markdown",
      "metadata": {
        "id": "XM5tWiFITGFO"
      },
      "source": [
        "## <center> <font color = violet> Conclusão </font>\n",
        "\n",
        "A análise dos dados do projeto de desenvolvimento de software revelou informações valiosas sobre o progresso, desafios e oportunidades de melhoria. Acompanhar as horas trabalhadas, os bugs corrigidos, as tarefas concluídas e a produtividade diária nos permitiu tomar decisões informadas para garantir o sucesso do projeto. Observamos a importância de manter um equilíbrio adequado entre o tempo dedicado ao projeto, a qualidade do software e o progresso das tarefas. Com base nessas informações, a empresa XYZ poderá implementar ajustes e melhorias para otimizar o desenvolvimento do software."
      ]
    }
  ],
  "metadata": {
    "colab": {
      "authorship_tag": "ABX9TyN25db8HwRy/O3+rJIRo16h",
      "include_colab_link": true,
      "provenance": []
    },
    "kernelspec": {
      "display_name": "Python 3",
      "name": "python3"
    },
    "language_info": {
      "name": "python"
    }
  },
  "nbformat": 4,
  "nbformat_minor": 0
}
